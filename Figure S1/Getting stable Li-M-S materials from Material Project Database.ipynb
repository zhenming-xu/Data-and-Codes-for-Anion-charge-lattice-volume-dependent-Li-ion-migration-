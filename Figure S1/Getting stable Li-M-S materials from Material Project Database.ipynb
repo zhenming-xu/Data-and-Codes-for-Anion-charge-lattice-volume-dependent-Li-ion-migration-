{
 "cells": [
  {
   "cell_type": "code",
   "execution_count": 10,
   "metadata": {},
   "outputs": [],
   "source": [
    "__author__ = \"Zhenming Xu\"\n",
    "__email__ = \"15216105346@163.com\"\n",
    "__date__ = \"Aug 8, 2019\""
   ]
  },
  {
   "cell_type": "code",
   "execution_count": 11,
   "metadata": {},
   "outputs": [],
   "source": [
    "from pandas import DataFrame\n",
    "from functools import reduce\n",
    "import numpy as np\n",
    "from pymatgen.ext.matproj import MPRester\n",
    "from pymatgen.core.periodic_table import Element\n",
    "%matplotlib inline"
   ]
  },
  {
   "cell_type": "code",
   "execution_count": null,
   "metadata": {},
   "outputs": [],
   "source": [
    "mp_api = MPRester()\n",
    "binary_entries = mp_api.query('Li-S', properties = ['elements', 'nelements', 'pretty_formula', 'spacegroup.symbol', 'material_id', 'e_above_hull'])\n",
    "\n",
    "pmg_all_els = set([Element.from_Z(i).symbol for i in range(1, 83)])\n",
    "elements = list(pmg_all_els)\n",
    "remove_elements = ['He','Ne','Ar','Kr','Xe','Rn']#['O','S','Se','Te','F','Cl','Br','I','He','Ne','Ar','Kr','Xe','Rn']\n",
    "for i in elements:\n",
    "    for j in remove_elements:\n",
    "        if j in elements:\n",
    "            elements.remove(j)\n",
    "\n",
    "ternary_entries = []\n",
    "for B_element in elements:\n",
    "    ternary_entries = ternary_entries + mp_api.query('Li-S-{}'.format(B_element), properties = ['elements', 'nelements', 'pretty_formula', 'spacegroup.symbol', 'material_id', 'e_above_hull'])    \n",
    "\n",
    "quaternary_entries = []\n",
    "for B_element in elements:\n",
    "    for C_element in elements:\n",
    "        quaternary_entries = quaternary_entries + mp_api.query('Li-S-{}-{}'.format(B_element, C_element), properties = ['elements', 'nelements', 'pretty_formula', 'spacegroup.symbol', 'material_id', 'e_above_hull'])"
   ]
  },
  {
   "cell_type": "code",
   "execution_count": null,
   "metadata": {},
   "outputs": [],
   "source": [
    "total_entries = binary_entries + ternary_entries + quaternary_entries\n",
    "def list_dict_duplicate_removal():\n",
    "    run_function = lambda x, y: x if y in x else x + [y]\n",
    "    return reduce(run_function, [[], ] + total_entries)\n",
    "total = DataFrame(list_dict_duplicate_removal())\n",
    "total_stable = total.loc[(total['e_above_hull'] <= 0.05) & (total['nelements'] >= 2)].sort_values('e_above_hull').reset_index(drop=True)\n",
    "total_stable.to_csv('stable_lithium_sulfides_from_MP_database.csv')"
   ]
  },
  {
   "cell_type": "code",
   "execution_count": null,
   "metadata": {},
   "outputs": [],
   "source": []
  }
 ],
 "metadata": {
  "kernelspec": {
   "display_name": "Python 3",
   "language": "python",
   "name": "python3"
  },
  "language_info": {
   "codemirror_mode": {
    "name": "ipython",
    "version": 3
   },
   "file_extension": ".py",
   "mimetype": "text/x-python",
   "name": "python",
   "nbconvert_exporter": "python",
   "pygments_lexer": "ipython3",
   "version": "3.7.3"
  }
 },
 "nbformat": 4,
 "nbformat_minor": 2
}
